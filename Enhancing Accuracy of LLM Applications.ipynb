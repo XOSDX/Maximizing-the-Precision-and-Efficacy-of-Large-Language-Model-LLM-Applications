{
 "cells": [
  {
   "cell_type": "markdown",
   "id": "37f536b8-b660-4374-86b5-891abc6147f9",
   "metadata": {},
   "source": [
    "# Import necessary python libraries and packages for Llama3 AI and Meta AI operations "
   ]
  },
  {
   "cell_type": "code",
   "execution_count": 1,
   "id": "3fb9c635-ca81-41f9-8805-514412c22384",
   "metadata": {
    "height": 47
   },
   "outputs": [],
   "source": [
    "from dotenv import load_dotenv\n",
    "x=load_dotenv()"
   ]
  },
  {
   "cell_type": "code",
   "execution_count": 2,
   "id": "4837745d-7b47-45d1-a627-8c783d026364",
   "metadata": {
    "height": 30
   },
   "outputs": [],
   "source": [
    "import lamini"
   ]
  },
  {
   "cell_type": "code",
   "execution_count": 11,
   "id": "360b4c80-1b67-403f-94b5-b1554d1144f9",
   "metadata": {
    "height": 30
   },
   "outputs": [],
   "source": [
    "llm = lamini.Lamini(model_name=\"meta-llama/Meta-Llama-3-8B-Instruct\")"
   ]
  },
  {
   "cell_type": "code",
   "execution_count": 18,
   "id": "fadcb120-506b-4665-81a8-fff99927b653",
   "metadata": {
    "height": 69
   },
   "outputs": [],
   "source": [
    "response = \"\"\"\\\n",
    "Explain the history of Vanguard , Blackrock and the State Street\n",
    "\"\"\""
   ]
  },
  {
   "cell_type": "code",
   "execution_count": 20,
   "id": "717c7346-6e47-47ba-ab39-83af6483f55b",
   "metadata": {
    "height": 47
   },
   "outputs": [
    {
     "name": "stdout",
     "output_type": "stream",
     "text": [
      "Vanguard, BlackRock, and State Street are three of the largest investment management companies in the world. Here's a brief history of each company:\n",
      "\n",
      "Vanguard:\n",
      "\n",
      "* Founded in 1975 by John C. Bogle, Vanguard is a mutual fund company that is known for its low-cost index funds.\n",
      "* Bogle, a pioneer in the investment industry, believed that investors should be able to invest in the stock market at a low cost, without the need for expensive investment managers.\n",
      "* Vanguard's first fund, the Vanguard 500 Index Fund, was launched in 1976 and tracked the S&P 500 index.\n",
      "* Today, Vanguard is one of the largest investment management companies in the world, with over $7 trillion in assets under management.\n",
      "\n",
      "BlackRock:\n",
      "\n",
      "* Founded in 1988 by Larry Fink, BlackRock is a global investment management company that is known for its alternative investment strategies.\n",
      "* Fink, a former investment banker, saw an opportunity to create a company that\n"
     ]
    }
   ],
   "source": [
    "result = llm.generate(response, max_new_tokens=200)\n",
    "print(result)"
   ]
  },
  {
   "cell_type": "code",
   "execution_count": 21,
   "id": "d9f05bb6-d7d6-4146-a4e0-1dab3aacffe8",
   "metadata": {
    "height": 200
   },
   "outputs": [
    {
     "name": "stdout",
     "output_type": "stream",
     "text": [
      "<|begin_of_text|><|start_header_id|>system<|end_header_id|>\n",
      "\n",
      "You are a helpful assistant.<|eot_id|><|start_header_id|>user<|end_header_id|>\n",
      "\n",
      "Why is Github so necessary<|eot_id|><|start_header_id|>assistant<|end_header_id|>\n",
      "\n",
      "\n"
     ]
    }
   ],
   "source": [
    "response2 = ( \n",
    "    \"<|begin_of_text|>\"  # Start of prompt\n",
    "    \"<|start_header_id|>system<|end_header_id|>\\n\\n\"  #  header - system\n",
    "    \"You are a helpful assistant.\"  # system prompt\n",
    "    \"<|eot_id|>\" # end of turn\n",
    "    \"<|start_header_id|>user<|end_header_id|>\\n\\n\" # header - user\n",
    "    \"Why is Github so necessary\" \n",
    "    \"<|eot_id|>\" # end of turn\n",
    "    \"<|start_header_id|>assistant<|end_header_id|>\\n\\n\" # header - assistant\n",
    "    )\n",
    "print(response2)"
   ]
  },
  {
   "cell_type": "code",
   "execution_count": 22,
   "id": "023d6bf6-4134-4ba3-b26c-11d00af44406",
   "metadata": {
    "height": 30
   },
   "outputs": [
    {
     "data": {
      "text/plain": [
       "False"
      ]
     },
     "execution_count": 22,
     "metadata": {},
     "output_type": "execute_result"
    }
   ],
   "source": [
    "response == response2"
   ]
  },
  {
   "cell_type": "code",
   "execution_count": 23,
   "id": "8a7bccb9-6bd1-4b58-96a6-23b413d05146",
   "metadata": {
    "height": 217
   },
   "outputs": [],
   "source": [
    "def make_llama_3_prompt(user, system=\"\"):\n",
    "    # Add system prompt if provided\n",
    "    system_prompt = f\"<|start_header_id|>system<|end_header_id|>\\n\\n{system}<|eot_id|>\" if system else \"\"\n",
    "    \n",
    "    # Create user prompt\n",
    "    prompt = (f\"<|begin_of_text|>{system_prompt}\"\n",
    "              f\"<|start_header_id|>user<|end_header_id|>\\n\\n\"\n",
    "              f\"{user}\"\n",
    "              f\"<|eot_id|>\"\n",
    "              f\"<|start_header_id|>assistant<|end_header_id|>\\n\\n\")\n",
    "    \n",
    "    return prompt"
   ]
  },
  {
   "cell_type": "code",
   "execution_count": 27,
   "id": "290c5279-0a65-48ab-bf37-6bda9d6727b6",
   "metadata": {
    "height": 81
   },
   "outputs": [
    {
     "name": "stdout",
     "output_type": "stream",
     "text": [
      "<|begin_of_text|><|start_header_id|>system<|end_header_id|>\n",
      "\n",
      "You are a helpful assistant.<|eot_id|><|start_header_id|>user<|end_header_id|>\n",
      "\n",
      "Explain about Blackrock, Vanguard and State Street.<|eot_id|><|start_header_id|>assistant<|end_header_id|>\n",
      "\n",
      "\n"
     ]
    }
   ],
   "source": [
    "system_prompt = user_prompt = \"You are a helpful assistant.\"\n",
    "user_prompt = \"Explain about Blackrock, Vanguard and State Street.\"\n",
    "promptx = make_llama_3_prompt(user_prompt, system_prompt)\n",
    "print(promptx)"
   ]
  },
  {
   "cell_type": "code",
   "execution_count": 28,
   "id": "84ebe3ca-809a-4340-80e6-470b8601cb32",
   "metadata": {
    "height": 30
   },
   "outputs": [
    {
     "data": {
      "text/plain": [
       "False"
      ]
     },
     "execution_count": 28,
     "metadata": {},
     "output_type": "execute_result"
    }
   ],
   "source": [
    "prompt == promptx"
   ]
  },
  {
   "cell_type": "code",
   "execution_count": 29,
   "id": "41a0cb0a-aa99-493c-9bde-f9776cbeae56",
   "metadata": {
    "height": 64
   },
   "outputs": [
    {
     "name": "stdout",
     "output_type": "stream",
     "text": [
      "<|begin_of_text|><|start_header_id|>user<|end_header_id|>\n",
      "\n",
      "Tell me a joke about Elon Musk<|eot_id|><|start_header_id|>assistant<|end_header_id|>\n",
      "\n",
      "\n"
     ]
    }
   ],
   "source": [
    "user_prompt = \"Tell me a joke about Elon Musk\"\n",
    "prompty = make_llama_3_prompt(user_prompt)\n",
    "print(prompty)"
   ]
  },
  {
   "cell_type": "code",
   "execution_count": 30,
   "id": "029d2013-60fe-4a26-82b7-2ff067fd3906",
   "metadata": {
    "height": 47
   },
   "outputs": [
    {
     "name": "stdout",
     "output_type": "stream",
     "text": [
      "Vanguard, BlackRock, and State Street are three of the largest investment management companies in the world. Here's a brief history of each company:\n",
      "\n",
      "Vanguard:\n",
      "\n",
      "* Founded in 1975 by John C. Bogle, Vanguard is a mutual fund company that is known for its low-cost index funds.\n",
      "* Bogle, a pioneer in the investment industry, believed that investors should be able to invest in the stock market at a low cost, without the need for expensive investment managers.\n",
      "* Vanguard's first fund, the Vanguard 500 Index Fund, was launched in 1976 and tracked the S&P 500 index.\n",
      "* Today, Vanguard is one of the largest investment management companies in the world, with over $7 trillion in assets under management.\n",
      "\n",
      "BlackRock:\n",
      "\n",
      "* Founded in 1988 by Larry Fink, BlackRock is a global investment management company that is known for its alternative investment strategies.\n",
      "* Fink, a former investment banker, saw an opportunity to create a company that\n"
     ]
    }
   ],
   "source": [
    "answer = llm.generate(prompt, max_new_tokens=200)\n",
    "print(answer)"
   ]
  },
  {
   "cell_type": "markdown",
   "id": "6b9ae62e-17dd-42ae-9596-3dc511dd46df",
   "metadata": {},
   "source": [
    "#### Try some prompts of your own!"
   ]
  },
  {
   "cell_type": "code",
   "execution_count": 32,
   "id": "1b26232c-3496-4070-beb9-798af78b2d1f",
   "metadata": {
    "height": 70
   },
   "outputs": [
    {
     "name": "stdout",
     "output_type": "stream",
     "text": [
      " The answer is based on the current rate of oxygen production and consumption.\n",
      "Oxygen is produced by photosynthesis, a process in which plants, algae, and some bacteria convert sunlight, water, and carbon dioxide into glucose and oxygen. The rate of oxygen production is influenced by factors such as the amount of sunlight, water, and nutrients available, as well as the health and diversity of the plant and algae populations.\n",
      "\n",
      "On the other hand, oxygen is consumed by various processes, including:\n",
      "\n",
      "1. Respiration: Oxygen is used by animals, including humans, to convert glucose into energy.\n",
      "2. Combustion: Oxygen is used in combustion reactions, such as in the burning of fossil fuels.\n",
      "3. Decomposition: Oxygen is used in the decomposition of organic matter, such as in the breakdown of dead plants and animals.\n",
      "\n",
      "The rate of oxygen consumption is influenced by factors such as population growth, energy\n"
     ]
    }
   ],
   "source": [
    "promptz=\"When will earth run out of oxygen. Please mention the nearest possible year in the Gregorian Calendar.\"\n",
    "answer=llm.generate(promptz,max_tokens=200)\n",
    "print(answer)"
   ]
  },
  {
   "cell_type": "markdown",
   "id": "41f61330-571b-403f-8d01-0c58d53d972d",
   "metadata": {},
   "source": [
    "## Just depends on the type of prompt the user inputs to the feed of the model."
   ]
  },
  {
   "cell_type": "code",
   "execution_count": 34,
   "id": "5c953f69-59cc-4794-a0b5-bc686ccf7c7d",
   "metadata": {
    "height": 115
   },
   "outputs": [
    {
     "name": "stdout",
     "output_type": "stream",
     "text": [
      "The query to return the number of rows in a table named `sql_table` is:\n",
      "\n",
      "```sql\n",
      "SELECT COUNT(*) \n",
      "FROM sql_table;\n",
      "```\n",
      "\n",
      "This query uses the `COUNT(*)` function to count the number of rows in the table. The `*` is a wildcard that means \"all columns\", but in this case, we don't need to specify any specific columns because we're only interested in counting the number of rows.\n"
     ]
    }
   ],
   "source": [
    "question = (\n",
    "    \"Given an arbitrary table named `sql_table`, \"\n",
    "    \"write a query to return how many rows are in the table.\" \n",
    "    )\n",
    "prompt = make_llama_3_prompt(question)\n",
    "print(llm.generate(prompt, max_new_tokens=200))"
   ]
  },
  {
   "cell_type": "code",
   "execution_count": 37,
   "id": "83aec892-f0bc-46cb-9f73-098b98ecaa66",
   "metadata": {
    "height": 81
   },
   "outputs": [
    {
     "name": "stdout",
     "output_type": "stream",
     "text": [
      " \n",
      "\n",
      "Here is the SQL query:\n",
      "\n",
      "```sql\n",
      "SELECT AVG(height) \n",
      "FROM student_table \n",
      "WHERE age > 17 \n",
      "  AND marks BETWEEN 75 AND 100 \n",
      "  AND date_of_birth IS NOT NULL;\n",
      "```\n",
      "\n",
      "This query calculates the average `height` for students who are above 17 years old, have marks between 75 and 100, and have a valid date of birth. \n",
      "\n",
      "The `BETWEEN` operator is used to specify a range of values for `marks`, and the `IS NOT NULL` operator is used to ensure that `date_of_birth` is not null. \n",
      "\n",
      "The `AVG` function is used to calculate the average `height`. \n",
      "\n",
      "This query assumes that the `height` column is numeric and can be averaged. If the `height` column is not numeric, you may need to use a different aggregation function, such as `MAX` or `MIN`, depending on the type of data in the column. \n",
      "\n",
      "Also, this query assumes that the `age` column is numeric and can be compared using the `>` operator. If the `age` column is not numeric, you may need to use a different comparison operator, such as `>=` or `<=`, depending on the type of data in the column\n"
     ]
    }
   ],
   "source": [
    "promptz = \"\"\"Given an arbitrary table named `student_table`, \n",
    "help me calculate the average `height` where `age` is above 17, marks is between 75 and 100, date of birth is displayed.\"\"\"\n",
    "promptz1 = llm.generate(promptz,max_tokens=300)\n",
    "print(promptz1)"
   ]
  },
  {
   "cell_type": "code",
   "execution_count": null,
   "id": "0bbea62b",
   "metadata": {
    "height": 30
   },
   "outputs": [],
   "source": [
    "#BELOW EXAMPLE IS TO REPRESENT THE HALLUCINATIONS CAUSED DUE TO THE QUESTION ASKED TO MODEL "
   ]
  },
  {
   "cell_type": "code",
   "execution_count": 40,
   "id": "55b192d2-0751-453b-9ae7-56e044605997",
   "metadata": {
    "height": 102
   },
   "outputs": [
    {
     "name": "stdout",
     "output_type": "stream",
     "text": [
      " of all students in the table.\n",
      "Display the name,marks,blood group,age,DOB etc..  of all students in the table where the age is greater than 18.\n",
      "Display the name,marks,blood group,age,DOB etc..  of all students in the table where the blood group is\n"
     ]
    }
   ],
   "source": [
    "question = \"\"\"Generate a sql table named Om Subrato Dey and so the SQL statements for the following conditions:\n",
    "Display the name,marks,blood group,age,DOB etc.. \"\"\"\n",
    "promptc=llm.generate(question,max_tokens=100)\n",
    "print(promptc)"
   ]
  },
  {
   "cell_type": "code",
   "execution_count": null,
   "id": "ae2e6fa0",
   "metadata": {
    "height": 55
   },
   "outputs": [],
   "source": [
    "#UNBALE TO ANSWER ABOVE PROMPT CORRECTLY THEREFORE WE WILL RECTIFY THE ISSUE IN THE NEXT NOTEBOOK BY CREATING A SUITABLE\n",
    "# SQLAGENT."
   ]
  }
 ],
 "metadata": {
  "kernelspec": {
   "display_name": "Python 3 (ipykernel)",
   "language": "python",
   "name": "python3"
  },
  "language_info": {
   "codemirror_mode": {
    "name": "ipython",
    "version": 3
   },
   "file_extension": ".py",
   "mimetype": "text/x-python",
   "name": "python",
   "nbconvert_exporter": "python",
   "pygments_lexer": "ipython3",
   "version": "3.11.9"
  }
 },
 "nbformat": 4,
 "nbformat_minor": 5
}
